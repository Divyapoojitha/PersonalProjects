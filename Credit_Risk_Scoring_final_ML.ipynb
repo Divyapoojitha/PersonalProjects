{
  "nbformat": 4,
  "nbformat_minor": 0,
  "metadata": {
    "colab": {
      "provenance": []
    },
    "kernelspec": {
      "name": "python3",
      "display_name": "Python 3"
    },
    "language_info": {
      "name": "python"
    }
  },
  "cells": [
    {
      "cell_type": "markdown",
      "source": [
        "`Problem Statement` - Given various features about a customer like Age, Income, Loan Amount, Loan Intent, Home Ownership etc.. , predict if in case the loan is given, will the customer default or not on the Loan payments."
      ],
      "metadata": {
        "id": "4otJxhJXiXyG"
      }
    },
    {
      "cell_type": "code",
      "execution_count": null,
      "metadata": {
        "id": "gbTPMVSyeT-2"
      },
      "outputs": [],
      "source": [
        "import pandas as pd\n",
        "import numpy as np\n",
        "import seaborn as sns\n",
        "import matplotlib.pyplot as plt\n",
        "from sklearn.preprocessing import OneHotEncoder, MinMaxScaler\n",
        "from sklearn.compose import ColumnTransformer\n",
        "from sklearn.model_selection import train_test_split\n",
        "from sklearn.metrics import accuracy_score\n",
        "from sklearn.linear_model import LogisticRegression\n",
        "from sklearn.ensemble import RandomForestClassifier\n",
        "from sklearn.neighbors import KNeighborsClassifier\n",
        "from sklearn.svm import SVC\n",
        "from sklearn.tree import DecisionTreeClassifier\n",
        "from sklearn.model_selection import RandomizedSearchCV"
      ]
    },
    {
      "cell_type": "markdown",
      "source": [
        "-  Here as per task it is required to find whether the customer will default the loan payment or not based on some given features.\n",
        "-  Among all the given columns from historical data the feature `loan status` gives info like 0 - non defaulted and 1 - defaulted , which clearly is what needed to be predicted in case of new customers . So the column `loan status` becomes target feature .\n",
        "-  All other columns can be used as input features to predict the target\n",
        "-  Classification task\n",
        "-  Accuracy score metric"
      ],
      "metadata": {
        "id": "IBdzrsmaivBM"
      }
    },
    {
      "cell_type": "code",
      "source": [
        "# Load and preprocess the dataset\n",
        "dataset = pd.read_csv('/content/credit_risk_dataset.csv')\n",
        "dataset.dropna(how='any', axis=0, inplace=True)\n",
        "dataset.drop_duplicates(keep='first', inplace=True)\n",
        "dataset['loan_status'] = dataset['loan_status'].astype('int')"
      ],
      "metadata": {
        "id": "AF9F-Kr8eowr"
      },
      "execution_count": null,
      "outputs": []
    },
    {
      "cell_type": "code",
      "source": [
        "# One-hot encoding and feature extraction\n",
        "categorical_cols = ['person_home_ownership', 'cb_person_default_on_file', 'loan_grade', 'loan_intent']\n",
        "ct = ColumnTransformer(transformers=[('ohe', OneHotEncoder(handle_unknown=\"ignore\", drop=\"first\"), categorical_cols)],\n",
        "                       remainder='passthrough')\n",
        "X = ct.fit_transform(dataset.drop('loan_status', axis=1))\n",
        "column_names = list(ct.get_feature_names_out())\n",
        "X = pd.DataFrame(X, columns=column_names)\n",
        "y = dataset['loan_status']"
      ],
      "metadata": {
        "id": "x328o61TetQW"
      },
      "execution_count": null,
      "outputs": []
    },
    {
      "cell_type": "code",
      "source": [
        "# Train-Test Split and Feature Scaling\n",
        "X_train, X_test, y_train, y_test = train_test_split(X, y, train_size=0.75, random_state=24)\n",
        "sc = MinMaxScaler()\n",
        "X_train = sc.fit_transform(X_train)\n",
        "X_test = sc.transform(X_test)\n"
      ],
      "metadata": {
        "id": "AzFgKOygexoG"
      },
      "execution_count": null,
      "outputs": []
    },
    {
      "cell_type": "code",
      "source": [
        "# Create a function for model training and evaluation\n",
        "def train_and_evaluate_model(model, X_train, y_train, X_test, y_test):\n",
        "    model.fit(X_train, y_train)\n",
        "    y_pred = model.predict(X_test)\n",
        "    y_pred_train = model.predict(X_train)\n",
        "    test_score = accuracy_score(y_test, y_pred)\n",
        "    train_score = accuracy_score(y_train , y_pred_train)\n",
        "    return model, test_score , train_score"
      ],
      "metadata": {
        "id": "8ghOuaAZe2WY"
      },
      "execution_count": null,
      "outputs": []
    },
    {
      "cell_type": "code",
      "source": [
        "# using randomized search cv instead of decision trees to avoid overfitting\n",
        "\n",
        "dtc_model = DecisionTreeClassifier()\n",
        "\n",
        "max_depth = np.linspace(3, 10, 6,dtype=\"int\")\n",
        "min_samples_split = [2, 5, 10, 15, 30, 35]\n",
        "min_samples_leaf = [1, 2, 5, 10, 15,20,25]\n",
        "criterion = [\"gini\",\"entropy\"]\n",
        "min_impurity_decrease = np.linspace(0.0001, 0.0005, 8)\n",
        "\n",
        "param_grid = {\"max_depth\" : max_depth, \"min_samples_split\":min_samples_split,\n",
        "             \"min_samples_leaf\":min_samples_leaf,\"criterion\":criterion,\n",
        "             \"min_impurity_decrease\":min_impurity_decrease}"
      ],
      "metadata": {
        "id": "r6KQcnqMmREh"
      },
      "execution_count": null,
      "outputs": []
    },
    {
      "cell_type": "code",
      "source": [
        "# Model training and evaluation\n",
        "models = {\n",
        "    'Logistic Regression': LogisticRegression(),\n",
        "    'Random Forest': RandomForestClassifier(n_estimators=8, criterion='entropy', max_depth=6),\n",
        "    'KNN': KNeighborsClassifier(n_neighbors=9, p=2),\n",
        "    'SVM': SVC(C=1, kernel='linear'),\n",
        "    'RSV': RandomizedSearchCV(dtc_model, param_distributions = param_grid, n_iter = 500,\n",
        "                         scoring = \"accuracy\", cv = 3, n_jobs = -1, verbose = 5)\n",
        "}"
      ],
      "metadata": {
        "id": "OaiCayije8Xb"
      },
      "execution_count": null,
      "outputs": []
    },
    {
      "cell_type": "code",
      "source": [
        "results_test = {}\n",
        "results_train = {}\n",
        "for model_name, model in models.items():\n",
        "    trained_model, test_score ,train_score = train_and_evaluate_model(model, X_train, y_train, X_test, y_test)\n",
        "    results_test[model_name] = (trained_model, test_score)\n",
        "    results_train[model_name] = (trained_model , train_score)"
      ],
      "metadata": {
        "colab": {
          "base_uri": "https://localhost:8080/"
        },
        "id": "dxJf1CWAfAwS",
        "outputId": "4e0743e4-ad29-4292-cf47-f6148fd703d4"
      },
      "execution_count": null,
      "outputs": [
        {
          "output_type": "stream",
          "name": "stdout",
          "text": [
            "Fitting 3 folds for each of 500 candidates, totalling 1500 fits\n"
          ]
        }
      ]
    },
    {
      "cell_type": "code",
      "source": [
        "# Real-time predictions\n",
        "data1 = pd.DataFrame({'person_age': [30], 'person_income': [60000], 'person_home_ownership': ['MORTGAGE'],\n",
        "                      'person_emp_length': [12], 'loan_intent': ['EDUCATION'], 'loan_grade': ['D'],\n",
        "                      'loan_amnt': [50000], 'loan_int_rate': [15],\n",
        "                      'loan_percent_income': [round((50000 / 60000), 2)], 'cb_person_default_on_file': ['N'],\n",
        "                      'cb_person_cred_hist_length': [4]})\n",
        "data2 = pd.DataFrame({'person_age': [24], 'person_income': [70000], 'person_home_ownership': ['RENT'],\n",
        "                      'person_emp_length': [7], 'loan_intent': ['PERSONAL'], 'loan_grade': ['D'], 'loan_amnt': [50000],\n",
        "                      'loan_int_rate': [17], 'loan_percent_income': [0.71], 'cb_person_default_on_file': ['N'],\n",
        "                      'cb_person_cred_hist_length': [3]})"
      ],
      "metadata": {
        "id": "XwdkqlQqfE-P"
      },
      "execution_count": null,
      "outputs": []
    },
    {
      "cell_type": "code",
      "source": [
        "data1 = ct.transform(data1)\n",
        "data1 = sc.transform(data1)\n",
        "data2 = ct.transform(data2)\n",
        "data2 = sc.transform(data2)"
      ],
      "metadata": {
        "colab": {
          "base_uri": "https://localhost:8080/"
        },
        "id": "R7kjlZI7fEup",
        "outputId": "63adb949-d5d0-439e-bcfc-3e0ea7a9677f"
      },
      "execution_count": null,
      "outputs": [
        {
          "output_type": "stream",
          "name": "stderr",
          "text": [
            "/usr/local/lib/python3.10/dist-packages/sklearn/base.py:439: UserWarning: X does not have valid feature names, but MinMaxScaler was fitted with feature names\n",
            "  warnings.warn(\n",
            "/usr/local/lib/python3.10/dist-packages/sklearn/base.py:439: UserWarning: X does not have valid feature names, but MinMaxScaler was fitted with feature names\n",
            "  warnings.warn(\n"
          ]
        }
      ]
    },
    {
      "cell_type": "code",
      "source": [
        "predictions_data1 = {}\n",
        "predictions_data2 = {}\n",
        "for model_name, (model, _) in results_test.items():\n",
        "    predictions_data1[model_name] = model.predict(data1)\n",
        "    predictions_data2[model_name] = model.predict(data2)"
      ],
      "metadata": {
        "id": "KTRn7uuHfEq9"
      },
      "execution_count": null,
      "outputs": []
    },
    {
      "cell_type": "code",
      "source": [
        "# Print results\n",
        "for model_name, (_, test_score) in results_test.items():\n",
        "    print(f'{model_name} Test Score: {test_score}  Train Score:{results_train[model_name][1]}')\n",
        "\n",
        "print(\"\\nReal Time Predictions for data1:\")\n",
        "print(predictions_data1)\n",
        "\n",
        "print(\"\\nReal Time Predictions for data2:\")\n",
        "print(predictions_data2)"
      ],
      "metadata": {
        "colab": {
          "base_uri": "https://localhost:8080/"
        },
        "id": "b_8_Q0wSfR-7",
        "outputId": "d82507e2-cd8c-4e10-a7ef-1691132b2775"
      },
      "execution_count": null,
      "outputs": [
        {
          "output_type": "stream",
          "name": "stdout",
          "text": [
            "Logistic Regression Test Score: 0.8666853774908785  Train Score:0.8679298245614036\n",
            "Random Forest Test Score: 0.904153802975021  Train Score:0.9116725146198831\n",
            "KNN Test Score: 0.8950322761717654  Train Score:0.9072280701754386\n",
            "SVM Test Score: 0.8687903452147067  Train Score:0.8683508771929824\n",
            "RSV Test Score: 0.9245018243053607  Train Score:0.9308538011695906\n",
            "\n",
            "Real Time Predictions for data1:\n",
            "{'Logistic Regression': array([1]), 'Random Forest': array([0]), 'KNN': array([0]), 'SVM': array([1]), 'RSV': array([0])}\n",
            "\n",
            "Real Time Predictions for data2:\n",
            "{'Logistic Regression': array([1]), 'Random Forest': array([1]), 'KNN': array([1]), 'SVM': array([1]), 'RSV': array([1])}\n"
          ]
        }
      ]
    },
    {
      "cell_type": "code",
      "source": [
        "# Plot train scores\n",
        "sns.barplot(x=list(results_train.keys()), y=[score for _, score in results_train.values()])\n",
        "plt.title('Model Train Scores')\n",
        "plt.xlabel('Model')\n",
        "plt.ylabel('Train Score')\n",
        "plt.xticks(rotation=90)\n",
        "plt.show()"
      ],
      "metadata": {
        "colab": {
          "base_uri": "https://localhost:8080/",
          "height": 591
        },
        "id": "ALxjhkvVk1_5",
        "outputId": "e6b8e9c4-8f6f-4d4d-9ad8-255cf91356da"
      },
      "execution_count": null,
      "outputs": [
        {
          "output_type": "display_data",
          "data": {
            "text/plain": [
              "<Figure size 640x480 with 1 Axes>"
            ],
            "image/png": "[encoded data removed]"
          },
          "metadata": {}
        }
      ]
    },
    {
      "cell_type": "code",
      "source": [
        "# Plot test scores\n",
        "sns.barplot(x=list(results_test.keys()), y=[score for _, score in results_test.values()])\n",
        "plt.title('Model Test Scores')\n",
        "plt.xlabel('Model')\n",
        "plt.ylabel('Test Score')\n",
        "plt.xticks(rotation=90)\n",
        "plt.show()"
      ],
      "metadata": {
        "colab": {
          "base_uri": "https://localhost:8080/",
          "height": 591
        },
        "id": "Xw-iHBwQfRyp",
        "outputId": "5c52c1c4-8a89-44f9-e80f-f3b089b47cbc"
      },
      "execution_count": null,
      "outputs": [
        {
          "output_type": "display_data",
          "data": {
            "text/plain": [
              "<Figure size 640x480 with 1 Axes>"
            ],
            "image/png": "[encoded data removed]"
          },
          "metadata": {}
        }
      ]
    },
    {
      "cell_type": "markdown",
      "source": [
        "### conclusion\n",
        "- All models did perform well . When considered difference between test and train scores Support vector machine classfier model and logistic regression model seem to have best performance among all models .\n",
        "\n",
        "- And , obviously , decision tree's arandomized search cv model is having higher performance"
      ],
      "metadata": {
        "id": "hpexs_xbjHRc"
      }
    }
  ]
}