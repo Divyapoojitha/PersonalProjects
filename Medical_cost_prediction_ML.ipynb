{
  "nbformat": 4,
  "nbformat_minor": 0,
  "metadata": {
    "colab": {
      "provenance": []
    },
    "kernelspec": {
      "name": "python3",
      "display_name": "Python 3"
    },
    "language_info": {
      "name": "python"
    }
  },
  "cells": [
    {
      "cell_type": "markdown",
      "source": [
        "`Problem Statement` - The aim here will be to predict the medical costs billed by health insurance on an individual given some features about the individual in the dataset."
      ],
      "metadata": {
        "id": "jFy0segEYajq"
      }
    },
    {
      "cell_type": "code",
      "execution_count": 17,
      "metadata": {
        "id": "3ZggORFcCv2y"
      },
      "outputs": [],
      "source": [
        "import numpy as np\n",
        "import pandas as pd\n",
        "import seaborn as sns\n",
        "import matplotlib.pyplot as plt\n",
        "import random\n",
        "import scipy.stats as stats\n",
        "from sklearn.preprocessing import OneHotEncoder, MinMaxScaler , StandardScaler\n",
        "from sklearn.compose import ColumnTransformer\n",
        "from sklearn.model_selection import train_test_split, RandomizedSearchCV\n",
        "from sklearn.neighbors import KNeighborsRegressor\n",
        "from sklearn.linear_model import LogisticRegression\n",
        "from sklearn.linear_model import LinearRegression\n",
        "from sklearn.svm import SVR\n",
        "from sklearn.tree import DecisionTreeRegressor\n",
        "from sklearn.ensemble import RandomForestRegressor\n",
        "from sklearn.metrics import mean_absolute_error, r2_score"
      ]
    },
    {
      "cell_type": "markdown",
      "source": [
        "-  Here as per task it is required to predict the charges billed by medical insurance on an individual based on some given features\n",
        "-  Here `charges` is the target feature which is numerical\n",
        "-  All other columns can be used as input features to predict the target\n",
        "-  Regression task\n",
        "-  Mean absolute error and R2_Score metrics are being used"
      ],
      "metadata": {
        "id": "IB3MdUF_XoBT"
      }
    },
    {
      "cell_type": "code",
      "source": [
        "# Load and preprocess the dataset\n",
        "dataset = pd.read_csv('/content/insurance.csv')\n",
        "dataset.dropna(how='any', axis=0, inplace=True)\n",
        "dataset.drop_duplicates(keep='first', inplace=True)\n",
        "dataset['charges'] = dataset['charges'].round()"
      ],
      "metadata": {
        "id": "qHuMSvxaGKuD"
      },
      "execution_count": 18,
      "outputs": []
    },
    {
      "cell_type": "code",
      "source": [
        "dataset.shape"
      ],
      "metadata": {
        "colab": {
          "base_uri": "https://localhost:8080/"
        },
        "id": "7v6xnPMyCyG6",
        "outputId": "6aa1fc09-526c-4c35-c3a4-a0d78eaab244"
      },
      "execution_count": 19,
      "outputs": [
        {
          "output_type": "execute_result",
          "data": {
            "text/plain": [
              "(1337, 7)"
            ]
          },
          "metadata": {},
          "execution_count": 19
        }
      ]
    },
    {
      "cell_type": "code",
      "source": [
        "# Feature Engineering and One-Hot Encoding\n",
        "\n",
        "X = dataset.drop('charges', axis=1)\n",
        "y = pd.DataFrame(dataset['charges'])\n",
        "\n",
        "categorical_cols = ['sex', 'smoker', 'region']\n",
        "ct = ColumnTransformer(transformers=[('ohe', OneHotEncoder(handle_unknown=\"ignore\", drop=\"first\"), categorical_cols)],\n",
        "                           remainder='passthrough')\n",
        "X = ct.fit_transform(X)\n",
        "\n",
        "column_names = list(ct.get_feature_names_out())\n",
        "X = pd.DataFrame(X, columns=column_names)"
      ],
      "metadata": {
        "id": "MtLsHDbsCyDD"
      },
      "execution_count": 20,
      "outputs": []
    },
    {
      "cell_type": "code",
      "source": [
        "# Train-Test Split and Feature Scaling\n",
        "X_train, X_test, y_train, y_test = train_test_split(X, y, train_size=0.8, random_state=36)\n",
        "sc = StandardScaler()\n",
        "X_train = sc.fit_transform(X_train)\n",
        "X_test = sc.transform(X_test)"
      ],
      "metadata": {
        "id": "x7Ivb22SCyBP"
      },
      "execution_count": 21,
      "outputs": []
    },
    {
      "cell_type": "code",
      "source": [
        "# Create a function for model training and evaluation\n",
        "\n",
        "def train_and_evaluate_model(model, X_train, y_train, X_test, y_test):\n",
        "    if model in ['SVM_rsv','DT_rsv'] :\n",
        "      model.fit(X_train, y_train)\n",
        "      best_estimator = model.best_estimator_\n",
        "\n",
        "      y_pred = best_estimator.predict(X_test)\n",
        "      y_pred_train = best_estimator.predict(X_train)\n",
        "\n",
        "      test_mae = mean_absolute_error(y_test,y_pred)\n",
        "      train_mae = mean_absolute_error(y_train,y_pred_train)\n",
        "\n",
        "      test_score = r2_score(y_test, y_pred)\n",
        "      train_score = r2_score(y_train , y_pred_train)\n",
        "\n",
        "      return model, test_mae , train_mae , test_score*100 , train_score*100\n",
        "\n",
        "    else :\n",
        "      model.fit(X_train, y_train)\n",
        "      y_pred = model.predict(X_test)\n",
        "      y_pred_train = model.predict(X_train)\n",
        "\n",
        "      test_mae = mean_absolute_error(y_test,y_pred)\n",
        "      train_mae = mean_absolute_error(y_train,y_pred_train)\n",
        "\n",
        "      test_score = r2_score(y_test, y_pred)\n",
        "      train_score = r2_score(y_train , y_pred_train)\n",
        "\n",
        "      return model, test_mae , train_mae , test_score*100 , train_score*100"
      ],
      "metadata": {
        "id": "IHg5l7GDHg46"
      },
      "execution_count": 22,
      "outputs": []
    },
    {
      "cell_type": "code",
      "source": [
        "# using randomized search cv in decision trees\n",
        "\n",
        "dtr_model = DecisionTreeRegressor()\n",
        "\n",
        "max_depth = np.linspace(3, 10, 6, dtype=\"int\")\n",
        "min_samples_split = [2, 5, 10, 15, 30, 35]\n",
        "min_samples_leaf = [1, 2, 5, 10, 15, 20, 25]\n",
        "criterion = ['absolute_error', 'squared_error']\n",
        "min_impurity_decrease = np.linspace(0.0001, 0.0005, 8)\n",
        "\n",
        "param_grid = {\n",
        "        \"max_depth\": max_depth,\n",
        "        \"min_samples_split\": min_samples_split,\n",
        "        \"min_samples_leaf\": min_samples_leaf,\n",
        "        \"criterion\": criterion,\n",
        "        \"min_impurity_decrease\": min_impurity_decrease\n",
        "    }"
      ],
      "metadata": {
        "id": "SAuhRjRxIO0Q"
      },
      "execution_count": 23,
      "outputs": []
    },
    {
      "cell_type": "code",
      "source": [
        "# using randomized search cv in SVR\n",
        "\n",
        "svr = SVR()\n",
        "\n",
        "param_dist = {\n",
        "    'kernel': ['linear', 'rbf', 'poly'],'C': np.linspace(0.1, 10),'gamma': stats.expon(scale=0.1),'epsilon': np.linspace(0.01, 0.1)\n",
        "    }"
      ],
      "metadata": {
        "id": "Eta-UyhdQ5dA"
      },
      "execution_count": 24,
      "outputs": []
    },
    {
      "cell_type": "markdown",
      "source": [
        "-  For SVR and Decision Tree model randomized search CV is being used for better model performances\n",
        "-  Because in SVR without random search cv very poor performance observed and in case of decision trees without hyper parameter tuning it will obviously lead to overfitting problem"
      ],
      "metadata": {
        "id": "-NEdGo2sYn_a"
      }
    },
    {
      "cell_type": "code",
      "source": [
        "models = {\n",
        "    'Logistic Regression': LogisticRegression(),\n",
        "    'Linear Regression' : LinearRegression() ,\n",
        "    'Random Forest': RandomForestRegressor(n_estimators=8, criterion='absolute_error', max_depth=6),\n",
        "    'KNN': KNeighborsRegressor(n_neighbors=4, p=1),\n",
        "    'SVM_rsv': RandomizedSearchCV(svr, param_distributions=param_dist, n_iter=150, cv=5, scoring='neg_mean_absolute_error', n_jobs=-1,\n",
        "    verbose=1, random_state=42 ),\n",
        "    'DT_rsv': RandomizedSearchCV(dtr_model, param_distributions=param_grid, n_iter=500, scoring=\"r2\", cv=3, n_jobs=-1, verbose=5)\n",
        "}"
      ],
      "metadata": {
        "id": "3grx4PI7Il0L"
      },
      "execution_count": 25,
      "outputs": []
    },
    {
      "cell_type": "code",
      "source": [
        "# Model Evaluation Dictionary\n",
        "test_r2_score = {}\n",
        "test_mae = {}\n",
        "\n",
        "train_r2_score = {}\n",
        "train_mae = {}\n",
        "\n",
        "for model_name, model in models.items():\n",
        "    model, mae_test , mae_train , test_r2 , train_r2 = train_and_evaluate_model(model, X_train, y_train, X_test, y_test)\n",
        "\n",
        "    test_r2_score[model_name] = (model , test_r2)\n",
        "    train_r2_score[model_name] = (model , train_r2)\n",
        "\n",
        "    test_mae[model_name] = (model , mae_test)\n",
        "    train_mae[model_name] = (model , mae_train)"
      ],
      "metadata": {
        "colab": {
          "base_uri": "https://localhost:8080/"
        },
        "id": "Pv98V_LuCx9H",
        "outputId": "980dfe89-86d0-4783-9ceb-ff7db824477a"
      },
      "execution_count": 26,
      "outputs": [
        {
          "output_type": "stream",
          "name": "stderr",
          "text": [
            "/usr/local/lib/python3.10/dist-packages/sklearn/utils/validation.py:1143: DataConversionWarning: A column-vector y was passed when a 1d array was expected. Please change the shape of y to (n_samples, ), for example using ravel().\n",
            "  y = column_or_1d(y, warn=True)\n",
            "<ipython-input-22-e48ba9737fe9>:20: DataConversionWarning: A column-vector y was passed when a 1d array was expected. Please change the shape of y to (n_samples,), for example using ravel().\n",
            "  model.fit(X_train, y_train)\n"
          ]
        },
        {
          "output_type": "stream",
          "name": "stdout",
          "text": [
            "Fitting 5 folds for each of 150 candidates, totalling 750 fits\n"
          ]
        },
        {
          "output_type": "stream",
          "name": "stderr",
          "text": [
            "/usr/local/lib/python3.10/dist-packages/sklearn/utils/validation.py:1143: DataConversionWarning: A column-vector y was passed when a 1d array was expected. Please change the shape of y to (n_samples, ), for example using ravel().\n",
            "  y = column_or_1d(y, warn=True)\n"
          ]
        },
        {
          "output_type": "stream",
          "name": "stdout",
          "text": [
            "Fitting 3 folds for each of 500 candidates, totalling 1500 fits\n"
          ]
        }
      ]
    },
    {
      "cell_type": "code",
      "source": [
        "# Print r2_score results\n",
        "for model_name, (_, test_score) in test_r2_score.items():\n",
        "    print('Test and Train r2_scores for each model')\n",
        "    print(f'{model_name} Test Score: {test_score}  Train Score:{train_r2_score[model_name][1]}')\n",
        "\n",
        "print()\n",
        "\n",
        "# Print mae results\n",
        "for model_name, (_, mae) in test_mae.items():\n",
        "    print('Test and Train mae  for each model')\n",
        "    print(f'{model_name} Test mae: {mae}  Train mae:{train_mae[model_name][1]}')"
      ],
      "metadata": {
        "colab": {
          "base_uri": "https://localhost:8080/"
        },
        "id": "53EQF66yE24s",
        "outputId": "fc35da56-7c65-4fbe-e484-72cb3e8404e9"
      },
      "execution_count": 27,
      "outputs": [
        {
          "output_type": "stream",
          "name": "stdout",
          "text": [
            "Test and Train r2_scores for each model\n",
            "Logistic Regression Test Score: 66.5386829463384  Train Score:79.49955876954527\n",
            "Test and Train r2_scores for each model\n",
            "Linear Regression Test Score: 75.40233391599972  Train Score:74.86437540593911\n",
            "Test and Train r2_scores for each model\n",
            "Random Forest Test Score: 84.65321233251967  Train Score:88.07705293193526\n",
            "Test and Train r2_scores for each model\n",
            "KNN Test Score: 77.39674855813028  Train Score:87.6564006765879\n",
            "Test and Train r2_scores for each model\n",
            "SVM_rsv Test Score: 49.97364997891707  Train Score:47.18922285393825\n",
            "Test and Train r2_scores for each model\n",
            "DT_rsv Test Score: 84.63014199528608  Train Score:86.74841456718183\n",
            "\n",
            "Test and Train mae  for each model\n",
            "Logistic Regression Test mae: 3726.4850746268658  Train mae:2686.8606173994385\n",
            "Test and Train mae  for each model\n",
            "Linear Regression Test mae: 3641.9393352618267  Train mae:4320.130029876912\n",
            "Test and Train mae  for each model\n",
            "Random Forest Test mae: 1920.0708955223881  Train mae:1696.6635289990645\n",
            "Test and Train mae  for each model\n",
            "KNN Test mae: 3281.376865671642  Train mae:2570.5631431244155\n",
            "Test and Train mae  for each model\n",
            "SVM_rsv Test mae: 3491.058628244466  Train mae:4380.226956555195\n",
            "Test and Train mae  for each model\n",
            "DT_rsv Test mae: 2571.772153643503  Train mae:2619.5692134902038\n"
          ]
        }
      ]
    },
    {
      "cell_type": "code",
      "source": [
        "# Plot train scores\n",
        "sns.barplot(x=list(train_r2_score.keys()), y=[score for _, score in train_r2_score.values()])\n",
        "plt.title('Model Train Scores')\n",
        "plt.xlabel('Model')\n",
        "plt.ylabel('Train Score')\n",
        "plt.xticks(rotation=90)\n",
        "plt.show()"
      ],
      "metadata": {
        "colab": {
          "base_uri": "https://localhost:8080/",
          "height": 591
        },
        "id": "s5qGjxVtE2s7",
        "outputId": "ad7a9ace-67de-417e-b226-19a1454606ec"
      },
      "execution_count": 29,
      "outputs": [
        {
          "output_type": "display_data",
          "data": {
            "text/plain": [
              "<Figure size 640x480 with 1 Axes>"
            ],
            "image/png": "[encoded data removed]"
          },
          "metadata": {}
        }
      ]
    },
    {
      "cell_type": "code",
      "source": [
        "# Plot test scores\n",
        "sns.barplot(x=list(test_r2_score.keys()), y=[score for _, score in test_r2_score.values()])\n",
        "plt.title('Model Test Scores')\n",
        "plt.xlabel('Model')\n",
        "plt.ylabel('Test Score')\n",
        "plt.xticks(rotation=90)\n",
        "plt.show()"
      ],
      "metadata": {
        "colab": {
          "base_uri": "https://localhost:8080/",
          "height": 591
        },
        "id": "PFhbZ8AUL8D6",
        "outputId": "a9411086-cbf0-46bd-f936-fbe63fb1b18e"
      },
      "execution_count": 30,
      "outputs": [
        {
          "output_type": "display_data",
          "data": {
            "text/plain": [
              "<Figure size 640x480 with 1 Axes>"
            ],
            "image/png": "[encoded data removed]"
          },
          "metadata": {}
        }
      ]
    },
    {
      "cell_type": "code",
      "source": [],
      "metadata": {
        "id": "pt6ga4imcLfU"
      },
      "execution_count": 30,
      "outputs": []
    },
    {
      "cell_type": "markdown",
      "source": [
        "### Conclusion\n",
        "- Performances of Random forest , Decision Tree with random search cv are better\n",
        "- SVR performance does not seem to be that good even after hyper parameter tuning with random search cv\n",
        "- Logistic regression primarily not used for regression tasks but checked its performance also which is not upto mark"
      ],
      "metadata": {
        "id": "TjG-ICB2bOZJ"
      }
    },
    {
      "cell_type": "code",
      "source": [],
      "metadata": {
        "id": "gyDiVpahMTzZ"
      },
      "execution_count": 30,
      "outputs": []
    },
    {
      "cell_type": "code",
      "source": [],
      "metadata": {
        "id": "kTgCnaiWMTwi"
      },
      "execution_count": 30,
      "outputs": []
    },
    {
      "cell_type": "code",
      "source": [],
      "metadata": {
        "id": "Zn1KNSXLMTsZ"
      },
      "execution_count": 30,
      "outputs": []
    },
    {
      "cell_type": "code",
      "source": [],
      "metadata": {
        "id": "U1yMo3SCMTqt"
      },
      "execution_count": 30,
      "outputs": []
    },
    {
      "cell_type": "code",
      "source": [],
      "metadata": {
        "id": "JUNXDfR3MTm5"
      },
      "execution_count": 30,
      "outputs": []
    },
    {
      "cell_type": "code",
      "source": [],
      "metadata": {
        "id": "LdJDRjnrMTlC"
      },
      "execution_count": 30,
      "outputs": []
    }
  ]
}